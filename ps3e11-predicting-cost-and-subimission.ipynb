{
 "cells": [
  {
   "cell_type": "code",
   "execution_count": 1,
   "id": "899a5ab5",
   "metadata": {
    "_cell_guid": "b1076dfc-b9ad-4769-8c92-a6c4dae69d19",
    "_uuid": "8f2839f25d086af736a60e9eeb907d3b93b6e0e5",
    "execution": {
     "iopub.execute_input": "2023-03-25T18:06:29.197345Z",
     "iopub.status.busy": "2023-03-25T18:06:29.196304Z",
     "iopub.status.idle": "2023-03-25T18:06:32.214707Z",
     "shell.execute_reply": "2023-03-25T18:06:32.213153Z"
    },
    "papermill": {
     "duration": 3.035408,
     "end_time": "2023-03-25T18:06:32.218238",
     "exception": false,
     "start_time": "2023-03-25T18:06:29.182830",
     "status": "completed"
    },
    "tags": []
   },
   "outputs": [],
   "source": [
    "import pandas as pd\n",
    "import seaborn as sns\n",
    "test = pd.read_csv(\"/kaggle/input/playground-series-s3e11/test.csv\")\n",
    "train = pd.read_csv(\"/kaggle/input/playground-series-s3e11/train.csv\")"
   ]
  },
  {
   "cell_type": "code",
   "execution_count": 2,
   "id": "960eb98b",
   "metadata": {
    "execution": {
     "iopub.execute_input": "2023-03-25T18:06:32.241219Z",
     "iopub.status.busy": "2023-03-25T18:06:32.239975Z",
     "iopub.status.idle": "2023-03-25T18:06:32.282360Z",
     "shell.execute_reply": "2023-03-25T18:06:32.280935Z"
    },
    "papermill": {
     "duration": 0.05676,
     "end_time": "2023-03-25T18:06:32.285213",
     "exception": false,
     "start_time": "2023-03-25T18:06:32.228453",
     "status": "completed"
    },
    "tags": []
   },
   "outputs": [],
   "source": [
    "train = train.set_index(\"id\")"
   ]
  },
  {
   "cell_type": "code",
   "execution_count": 3,
   "id": "f2f0b726",
   "metadata": {
    "execution": {
     "iopub.execute_input": "2023-03-25T18:06:32.308782Z",
     "iopub.status.busy": "2023-03-25T18:06:32.307831Z",
     "iopub.status.idle": "2023-03-25T18:06:32.348132Z",
     "shell.execute_reply": "2023-03-25T18:06:32.347159Z"
    },
    "papermill": {
     "duration": 0.055082,
     "end_time": "2023-03-25T18:06:32.351030",
     "exception": false,
     "start_time": "2023-03-25T18:06:32.295948",
     "status": "completed"
    },
    "tags": []
   },
   "outputs": [
    {
     "data": {
      "text/html": [
       "<div>\n",
       "<style scoped>\n",
       "    .dataframe tbody tr th:only-of-type {\n",
       "        vertical-align: middle;\n",
       "    }\n",
       "\n",
       "    .dataframe tbody tr th {\n",
       "        vertical-align: top;\n",
       "    }\n",
       "\n",
       "    .dataframe thead th {\n",
       "        text-align: right;\n",
       "    }\n",
       "</style>\n",
       "<table border=\"1\" class=\"dataframe\">\n",
       "  <thead>\n",
       "    <tr style=\"text-align: right;\">\n",
       "      <th></th>\n",
       "      <th>store_sales(in millions)</th>\n",
       "      <th>unit_sales(in millions)</th>\n",
       "      <th>total_children</th>\n",
       "      <th>num_children_at_home</th>\n",
       "      <th>avg_cars_at home(approx).1</th>\n",
       "      <th>gross_weight</th>\n",
       "      <th>recyclable_package</th>\n",
       "      <th>low_fat</th>\n",
       "      <th>units_per_case</th>\n",
       "      <th>store_sqft</th>\n",
       "      <th>coffee_bar</th>\n",
       "      <th>video_store</th>\n",
       "      <th>salad_bar</th>\n",
       "      <th>prepared_food</th>\n",
       "      <th>florist</th>\n",
       "      <th>cost</th>\n",
       "    </tr>\n",
       "    <tr>\n",
       "      <th>id</th>\n",
       "      <th></th>\n",
       "      <th></th>\n",
       "      <th></th>\n",
       "      <th></th>\n",
       "      <th></th>\n",
       "      <th></th>\n",
       "      <th></th>\n",
       "      <th></th>\n",
       "      <th></th>\n",
       "      <th></th>\n",
       "      <th></th>\n",
       "      <th></th>\n",
       "      <th></th>\n",
       "      <th></th>\n",
       "      <th></th>\n",
       "      <th></th>\n",
       "    </tr>\n",
       "  </thead>\n",
       "  <tbody>\n",
       "    <tr>\n",
       "      <th>0</th>\n",
       "      <td>8.61</td>\n",
       "      <td>3.0</td>\n",
       "      <td>2.0</td>\n",
       "      <td>2.0</td>\n",
       "      <td>2.0</td>\n",
       "      <td>10.30</td>\n",
       "      <td>1.0</td>\n",
       "      <td>0.0</td>\n",
       "      <td>32.0</td>\n",
       "      <td>36509.0</td>\n",
       "      <td>0.0</td>\n",
       "      <td>0.0</td>\n",
       "      <td>0.0</td>\n",
       "      <td>0.0</td>\n",
       "      <td>0.0</td>\n",
       "      <td>62.09</td>\n",
       "    </tr>\n",
       "    <tr>\n",
       "      <th>1</th>\n",
       "      <td>5.00</td>\n",
       "      <td>2.0</td>\n",
       "      <td>4.0</td>\n",
       "      <td>0.0</td>\n",
       "      <td>3.0</td>\n",
       "      <td>6.66</td>\n",
       "      <td>1.0</td>\n",
       "      <td>0.0</td>\n",
       "      <td>1.0</td>\n",
       "      <td>28206.0</td>\n",
       "      <td>1.0</td>\n",
       "      <td>0.0</td>\n",
       "      <td>0.0</td>\n",
       "      <td>0.0</td>\n",
       "      <td>0.0</td>\n",
       "      <td>121.80</td>\n",
       "    </tr>\n",
       "    <tr>\n",
       "      <th>2</th>\n",
       "      <td>14.08</td>\n",
       "      <td>4.0</td>\n",
       "      <td>0.0</td>\n",
       "      <td>0.0</td>\n",
       "      <td>3.0</td>\n",
       "      <td>21.30</td>\n",
       "      <td>1.0</td>\n",
       "      <td>0.0</td>\n",
       "      <td>26.0</td>\n",
       "      <td>21215.0</td>\n",
       "      <td>1.0</td>\n",
       "      <td>0.0</td>\n",
       "      <td>0.0</td>\n",
       "      <td>0.0</td>\n",
       "      <td>0.0</td>\n",
       "      <td>83.51</td>\n",
       "    </tr>\n",
       "    <tr>\n",
       "      <th>3</th>\n",
       "      <td>4.02</td>\n",
       "      <td>3.0</td>\n",
       "      <td>5.0</td>\n",
       "      <td>0.0</td>\n",
       "      <td>0.0</td>\n",
       "      <td>14.80</td>\n",
       "      <td>0.0</td>\n",
       "      <td>1.0</td>\n",
       "      <td>36.0</td>\n",
       "      <td>21215.0</td>\n",
       "      <td>1.0</td>\n",
       "      <td>0.0</td>\n",
       "      <td>0.0</td>\n",
       "      <td>0.0</td>\n",
       "      <td>0.0</td>\n",
       "      <td>66.78</td>\n",
       "    </tr>\n",
       "    <tr>\n",
       "      <th>4</th>\n",
       "      <td>2.13</td>\n",
       "      <td>3.0</td>\n",
       "      <td>5.0</td>\n",
       "      <td>0.0</td>\n",
       "      <td>3.0</td>\n",
       "      <td>17.00</td>\n",
       "      <td>1.0</td>\n",
       "      <td>1.0</td>\n",
       "      <td>20.0</td>\n",
       "      <td>27694.0</td>\n",
       "      <td>1.0</td>\n",
       "      <td>1.0</td>\n",
       "      <td>1.0</td>\n",
       "      <td>1.0</td>\n",
       "      <td>1.0</td>\n",
       "      <td>111.51</td>\n",
       "    </tr>\n",
       "  </tbody>\n",
       "</table>\n",
       "</div>"
      ],
      "text/plain": [
       "    store_sales(in millions)  unit_sales(in millions)  total_children  \\\n",
       "id                                                                      \n",
       "0                       8.61                      3.0             2.0   \n",
       "1                       5.00                      2.0             4.0   \n",
       "2                      14.08                      4.0             0.0   \n",
       "3                       4.02                      3.0             5.0   \n",
       "4                       2.13                      3.0             5.0   \n",
       "\n",
       "    num_children_at_home  avg_cars_at home(approx).1  gross_weight  \\\n",
       "id                                                                   \n",
       "0                    2.0                         2.0         10.30   \n",
       "1                    0.0                         3.0          6.66   \n",
       "2                    0.0                         3.0         21.30   \n",
       "3                    0.0                         0.0         14.80   \n",
       "4                    0.0                         3.0         17.00   \n",
       "\n",
       "    recyclable_package  low_fat  units_per_case  store_sqft  coffee_bar  \\\n",
       "id                                                                        \n",
       "0                  1.0      0.0            32.0     36509.0         0.0   \n",
       "1                  1.0      0.0             1.0     28206.0         1.0   \n",
       "2                  1.0      0.0            26.0     21215.0         1.0   \n",
       "3                  0.0      1.0            36.0     21215.0         1.0   \n",
       "4                  1.0      1.0            20.0     27694.0         1.0   \n",
       "\n",
       "    video_store  salad_bar  prepared_food  florist    cost  \n",
       "id                                                          \n",
       "0           0.0        0.0            0.0      0.0   62.09  \n",
       "1           0.0        0.0            0.0      0.0  121.80  \n",
       "2           0.0        0.0            0.0      0.0   83.51  \n",
       "3           0.0        0.0            0.0      0.0   66.78  \n",
       "4           1.0        1.0            1.0      1.0  111.51  "
      ]
     },
     "execution_count": 3,
     "metadata": {},
     "output_type": "execute_result"
    }
   ],
   "source": [
    "train.head()"
   ]
  },
  {
   "cell_type": "code",
   "execution_count": 4,
   "id": "bf08900c",
   "metadata": {
    "execution": {
     "iopub.execute_input": "2023-03-25T18:06:32.376392Z",
     "iopub.status.busy": "2023-03-25T18:06:32.375245Z",
     "iopub.status.idle": "2023-03-25T18:06:32.394264Z",
     "shell.execute_reply": "2023-03-25T18:06:32.393097Z"
    },
    "papermill": {
     "duration": 0.035648,
     "end_time": "2023-03-25T18:06:32.397237",
     "exception": false,
     "start_time": "2023-03-25T18:06:32.361589",
     "status": "completed"
    },
    "tags": []
   },
   "outputs": [],
   "source": [
    "test = test.set_index(\"id\")"
   ]
  },
  {
   "cell_type": "code",
   "execution_count": 5,
   "id": "a75c29a8",
   "metadata": {
    "_kg_hide-output": true,
    "execution": {
     "iopub.execute_input": "2023-03-25T18:06:32.420512Z",
     "iopub.status.busy": "2023-03-25T18:06:32.420027Z",
     "iopub.status.idle": "2023-03-25T18:06:32.446545Z",
     "shell.execute_reply": "2023-03-25T18:06:32.445257Z"
    },
    "papermill": {
     "duration": 0.041371,
     "end_time": "2023-03-25T18:06:32.449208",
     "exception": false,
     "start_time": "2023-03-25T18:06:32.407837",
     "status": "completed"
    },
    "tags": []
   },
   "outputs": [
    {
     "data": {
      "text/html": [
       "<div>\n",
       "<style scoped>\n",
       "    .dataframe tbody tr th:only-of-type {\n",
       "        vertical-align: middle;\n",
       "    }\n",
       "\n",
       "    .dataframe tbody tr th {\n",
       "        vertical-align: top;\n",
       "    }\n",
       "\n",
       "    .dataframe thead th {\n",
       "        text-align: right;\n",
       "    }\n",
       "</style>\n",
       "<table border=\"1\" class=\"dataframe\">\n",
       "  <thead>\n",
       "    <tr style=\"text-align: right;\">\n",
       "      <th></th>\n",
       "      <th>store_sales(in millions)</th>\n",
       "      <th>unit_sales(in millions)</th>\n",
       "      <th>total_children</th>\n",
       "      <th>num_children_at_home</th>\n",
       "      <th>avg_cars_at home(approx).1</th>\n",
       "      <th>gross_weight</th>\n",
       "      <th>recyclable_package</th>\n",
       "      <th>low_fat</th>\n",
       "      <th>units_per_case</th>\n",
       "      <th>store_sqft</th>\n",
       "      <th>coffee_bar</th>\n",
       "      <th>video_store</th>\n",
       "      <th>salad_bar</th>\n",
       "      <th>prepared_food</th>\n",
       "      <th>florist</th>\n",
       "    </tr>\n",
       "    <tr>\n",
       "      <th>id</th>\n",
       "      <th></th>\n",
       "      <th></th>\n",
       "      <th></th>\n",
       "      <th></th>\n",
       "      <th></th>\n",
       "      <th></th>\n",
       "      <th></th>\n",
       "      <th></th>\n",
       "      <th></th>\n",
       "      <th></th>\n",
       "      <th></th>\n",
       "      <th></th>\n",
       "      <th></th>\n",
       "      <th></th>\n",
       "      <th></th>\n",
       "    </tr>\n",
       "  </thead>\n",
       "  <tbody>\n",
       "    <tr>\n",
       "      <th>360336</th>\n",
       "      <td>7.24</td>\n",
       "      <td>4.0</td>\n",
       "      <td>1.0</td>\n",
       "      <td>0.0</td>\n",
       "      <td>2.0</td>\n",
       "      <td>10.80</td>\n",
       "      <td>0.0</td>\n",
       "      <td>1.0</td>\n",
       "      <td>7.0</td>\n",
       "      <td>20319.0</td>\n",
       "      <td>0.0</td>\n",
       "      <td>0.0</td>\n",
       "      <td>0.0</td>\n",
       "      <td>0.0</td>\n",
       "      <td>0.0</td>\n",
       "    </tr>\n",
       "    <tr>\n",
       "      <th>360337</th>\n",
       "      <td>6.90</td>\n",
       "      <td>2.0</td>\n",
       "      <td>2.0</td>\n",
       "      <td>2.0</td>\n",
       "      <td>3.0</td>\n",
       "      <td>8.51</td>\n",
       "      <td>1.0</td>\n",
       "      <td>0.0</td>\n",
       "      <td>4.0</td>\n",
       "      <td>33858.0</td>\n",
       "      <td>1.0</td>\n",
       "      <td>0.0</td>\n",
       "      <td>1.0</td>\n",
       "      <td>1.0</td>\n",
       "      <td>1.0</td>\n",
       "    </tr>\n",
       "    <tr>\n",
       "      <th>360338</th>\n",
       "      <td>8.34</td>\n",
       "      <td>3.0</td>\n",
       "      <td>0.0</td>\n",
       "      <td>0.0</td>\n",
       "      <td>3.0</td>\n",
       "      <td>8.77</td>\n",
       "      <td>0.0</td>\n",
       "      <td>1.0</td>\n",
       "      <td>14.0</td>\n",
       "      <td>39696.0</td>\n",
       "      <td>0.0</td>\n",
       "      <td>0.0</td>\n",
       "      <td>1.0</td>\n",
       "      <td>1.0</td>\n",
       "      <td>0.0</td>\n",
       "    </tr>\n",
       "    <tr>\n",
       "      <th>360339</th>\n",
       "      <td>5.48</td>\n",
       "      <td>2.0</td>\n",
       "      <td>3.0</td>\n",
       "      <td>3.0</td>\n",
       "      <td>2.0</td>\n",
       "      <td>21.90</td>\n",
       "      <td>1.0</td>\n",
       "      <td>0.0</td>\n",
       "      <td>9.0</td>\n",
       "      <td>23688.0</td>\n",
       "      <td>1.0</td>\n",
       "      <td>1.0</td>\n",
       "      <td>1.0</td>\n",
       "      <td>1.0</td>\n",
       "      <td>1.0</td>\n",
       "    </tr>\n",
       "    <tr>\n",
       "      <th>360340</th>\n",
       "      <td>4.80</td>\n",
       "      <td>3.0</td>\n",
       "      <td>2.0</td>\n",
       "      <td>0.0</td>\n",
       "      <td>2.0</td>\n",
       "      <td>10.90</td>\n",
       "      <td>1.0</td>\n",
       "      <td>0.0</td>\n",
       "      <td>11.0</td>\n",
       "      <td>27694.0</td>\n",
       "      <td>1.0</td>\n",
       "      <td>1.0</td>\n",
       "      <td>1.0</td>\n",
       "      <td>1.0</td>\n",
       "      <td>1.0</td>\n",
       "    </tr>\n",
       "  </tbody>\n",
       "</table>\n",
       "</div>"
      ],
      "text/plain": [
       "        store_sales(in millions)  unit_sales(in millions)  total_children  \\\n",
       "id                                                                          \n",
       "360336                      7.24                      4.0             1.0   \n",
       "360337                      6.90                      2.0             2.0   \n",
       "360338                      8.34                      3.0             0.0   \n",
       "360339                      5.48                      2.0             3.0   \n",
       "360340                      4.80                      3.0             2.0   \n",
       "\n",
       "        num_children_at_home  avg_cars_at home(approx).1  gross_weight  \\\n",
       "id                                                                       \n",
       "360336                   0.0                         2.0         10.80   \n",
       "360337                   2.0                         3.0          8.51   \n",
       "360338                   0.0                         3.0          8.77   \n",
       "360339                   3.0                         2.0         21.90   \n",
       "360340                   0.0                         2.0         10.90   \n",
       "\n",
       "        recyclable_package  low_fat  units_per_case  store_sqft  coffee_bar  \\\n",
       "id                                                                            \n",
       "360336                 0.0      1.0             7.0     20319.0         0.0   \n",
       "360337                 1.0      0.0             4.0     33858.0         1.0   \n",
       "360338                 0.0      1.0            14.0     39696.0         0.0   \n",
       "360339                 1.0      0.0             9.0     23688.0         1.0   \n",
       "360340                 1.0      0.0            11.0     27694.0         1.0   \n",
       "\n",
       "        video_store  salad_bar  prepared_food  florist  \n",
       "id                                                      \n",
       "360336          0.0        0.0            0.0      0.0  \n",
       "360337          0.0        1.0            1.0      1.0  \n",
       "360338          0.0        1.0            1.0      0.0  \n",
       "360339          1.0        1.0            1.0      1.0  \n",
       "360340          1.0        1.0            1.0      1.0  "
      ]
     },
     "execution_count": 5,
     "metadata": {},
     "output_type": "execute_result"
    }
   ],
   "source": [
    "test.head()"
   ]
  },
  {
   "cell_type": "code",
   "execution_count": 6,
   "id": "a68cf6d2",
   "metadata": {
    "execution": {
     "iopub.execute_input": "2023-03-25T18:06:32.472978Z",
     "iopub.status.busy": "2023-03-25T18:06:32.472317Z",
     "iopub.status.idle": "2023-03-25T18:06:32.480010Z",
     "shell.execute_reply": "2023-03-25T18:06:32.478894Z"
    },
    "papermill": {
     "duration": 0.022722,
     "end_time": "2023-03-25T18:06:32.482677",
     "exception": false,
     "start_time": "2023-03-25T18:06:32.459955",
     "status": "completed"
    },
    "tags": []
   },
   "outputs": [
    {
     "data": {
      "text/plain": [
       "Index(['store_sales(in millions)', 'unit_sales(in millions)', 'total_children',\n",
       "       'num_children_at_home', 'avg_cars_at home(approx).1', 'gross_weight',\n",
       "       'recyclable_package', 'low_fat', 'units_per_case', 'store_sqft',\n",
       "       'coffee_bar', 'video_store', 'salad_bar', 'prepared_food', 'florist',\n",
       "       'cost'],\n",
       "      dtype='object')"
      ]
     },
     "execution_count": 6,
     "metadata": {},
     "output_type": "execute_result"
    }
   ],
   "source": [
    "train.columns"
   ]
  },
  {
   "cell_type": "code",
   "execution_count": 7,
   "id": "ce604560",
   "metadata": {
    "execution": {
     "iopub.execute_input": "2023-03-25T18:06:32.508118Z",
     "iopub.status.busy": "2023-03-25T18:06:32.507337Z",
     "iopub.status.idle": "2023-03-25T18:06:32.514753Z",
     "shell.execute_reply": "2023-03-25T18:06:32.513470Z"
    },
    "papermill": {
     "duration": 0.023706,
     "end_time": "2023-03-25T18:06:32.517626",
     "exception": false,
     "start_time": "2023-03-25T18:06:32.493920",
     "status": "completed"
    },
    "tags": []
   },
   "outputs": [
    {
     "data": {
      "text/plain": [
       "Index(['store_sales(in millions)', 'unit_sales(in millions)', 'total_children',\n",
       "       'num_children_at_home', 'avg_cars_at home(approx).1', 'gross_weight',\n",
       "       'recyclable_package', 'low_fat', 'units_per_case', 'store_sqft',\n",
       "       'coffee_bar', 'video_store', 'salad_bar', 'prepared_food', 'florist'],\n",
       "      dtype='object')"
      ]
     },
     "execution_count": 7,
     "metadata": {},
     "output_type": "execute_result"
    }
   ],
   "source": [
    "test.columns"
   ]
  },
  {
   "cell_type": "code",
   "execution_count": 8,
   "id": "ea2b0550",
   "metadata": {
    "execution": {
     "iopub.execute_input": "2023-03-25T18:06:32.543335Z",
     "iopub.status.busy": "2023-03-25T18:06:32.542807Z",
     "iopub.status.idle": "2023-03-25T18:06:32.549474Z",
     "shell.execute_reply": "2023-03-25T18:06:32.548083Z"
    },
    "papermill": {
     "duration": 0.024002,
     "end_time": "2023-03-25T18:06:32.553266",
     "exception": false,
     "start_time": "2023-03-25T18:06:32.529264",
     "status": "completed"
    },
    "tags": []
   },
   "outputs": [
    {
     "name": "stdout",
     "output_type": "stream",
     "text": [
      "(360336, 16)\n",
      "(240224, 15)\n"
     ]
    }
   ],
   "source": [
    "print(train.shape)\n",
    "print(test.shape)"
   ]
  },
  {
   "cell_type": "code",
   "execution_count": 9,
   "id": "79b2085f",
   "metadata": {
    "execution": {
     "iopub.execute_input": "2023-03-25T18:06:32.579109Z",
     "iopub.status.busy": "2023-03-25T18:06:32.578602Z",
     "iopub.status.idle": "2023-03-25T18:06:32.605664Z",
     "shell.execute_reply": "2023-03-25T18:06:32.604229Z"
    },
    "papermill": {
     "duration": 0.044207,
     "end_time": "2023-03-25T18:06:32.609164",
     "exception": false,
     "start_time": "2023-03-25T18:06:32.564957",
     "status": "completed"
    },
    "tags": []
   },
   "outputs": [
    {
     "data": {
      "text/plain": [
       "store_sales(in millions)      0.0\n",
       "unit_sales(in millions)       0.0\n",
       "total_children                0.0\n",
       "num_children_at_home          0.0\n",
       "avg_cars_at home(approx).1    0.0\n",
       "gross_weight                  0.0\n",
       "recyclable_package            0.0\n",
       "low_fat                       0.0\n",
       "units_per_case                0.0\n",
       "store_sqft                    0.0\n",
       "coffee_bar                    0.0\n",
       "video_store                   0.0\n",
       "salad_bar                     0.0\n",
       "prepared_food                 0.0\n",
       "florist                       0.0\n",
       "cost                          0.0\n",
       "dtype: float64"
      ]
     },
     "execution_count": 9,
     "metadata": {},
     "output_type": "execute_result"
    }
   ],
   "source": [
    "train.isnull().sum()/len(train)*100"
   ]
  },
  {
   "cell_type": "code",
   "execution_count": 10,
   "id": "402040bc",
   "metadata": {
    "execution": {
     "iopub.execute_input": "2023-03-25T18:06:32.636855Z",
     "iopub.status.busy": "2023-03-25T18:06:32.635882Z",
     "iopub.status.idle": "2023-03-25T18:06:32.656745Z",
     "shell.execute_reply": "2023-03-25T18:06:32.655781Z"
    },
    "papermill": {
     "duration": 0.037719,
     "end_time": "2023-03-25T18:06:32.659075",
     "exception": false,
     "start_time": "2023-03-25T18:06:32.621356",
     "status": "completed"
    },
    "tags": []
   },
   "outputs": [
    {
     "data": {
      "text/plain": [
       "store_sales(in millions)      0.0\n",
       "unit_sales(in millions)       0.0\n",
       "total_children                0.0\n",
       "num_children_at_home          0.0\n",
       "avg_cars_at home(approx).1    0.0\n",
       "gross_weight                  0.0\n",
       "recyclable_package            0.0\n",
       "low_fat                       0.0\n",
       "units_per_case                0.0\n",
       "store_sqft                    0.0\n",
       "coffee_bar                    0.0\n",
       "video_store                   0.0\n",
       "salad_bar                     0.0\n",
       "prepared_food                 0.0\n",
       "florist                       0.0\n",
       "dtype: float64"
      ]
     },
     "execution_count": 10,
     "metadata": {},
     "output_type": "execute_result"
    }
   ],
   "source": [
    "test.isnull().sum()/len(test)*100"
   ]
  },
  {
   "cell_type": "markdown",
   "id": "17f168b0",
   "metadata": {
    "papermill": {
     "duration": 0.011234,
     "end_time": "2023-03-25T18:06:32.681942",
     "exception": false,
     "start_time": "2023-03-25T18:06:32.670708",
     "status": "completed"
    },
    "tags": []
   },
   "source": [
    "# EDA"
   ]
  },
  {
   "cell_type": "code",
   "execution_count": 11,
   "id": "6747137e",
   "metadata": {
    "execution": {
     "iopub.execute_input": "2023-03-25T18:06:32.707759Z",
     "iopub.status.busy": "2023-03-25T18:06:32.706867Z",
     "iopub.status.idle": "2023-03-25T18:06:32.713046Z",
     "shell.execute_reply": "2023-03-25T18:06:32.711523Z"
    },
    "papermill": {
     "duration": 0.022556,
     "end_time": "2023-03-25T18:06:32.716031",
     "exception": false,
     "start_time": "2023-03-25T18:06:32.693475",
     "status": "completed"
    },
    "tags": []
   },
   "outputs": [],
   "source": [
    "import matplotlib.pyplot as plt\n"
   ]
  },
  {
   "cell_type": "code",
   "execution_count": 12,
   "id": "9981e7b2",
   "metadata": {
    "execution": {
     "iopub.execute_input": "2023-03-25T18:06:32.742830Z",
     "iopub.status.busy": "2023-03-25T18:06:32.741831Z",
     "iopub.status.idle": "2023-03-25T18:06:57.457868Z",
     "shell.execute_reply": "2023-03-25T18:06:57.456447Z"
    },
    "papermill": {
     "duration": 24.734681,
     "end_time": "2023-03-25T18:06:57.462693",
     "exception": false,
     "start_time": "2023-03-25T18:06:32.728012",
     "status": "completed"
    },
    "tags": []
   },
   "outputs": [
    {
     "data": {
      "image/png": "[encoded data removed]",
      "text/plain": [
       "<Figure size 1200x800 with 16 Axes>"
      ]
     },
     "metadata": {},
     "output_type": "display_data"
    }
   ],
   "source": [
    "plt.figure(figsize=(12,8))\n",
    "for i in range(0, len(train.columns)):\n",
    "    plt.subplot(4,4,i+1)\n",
    "    sns.kdeplot(x=train[train.columns[i]], label='train')\n",
    "    plt.tight_layout()"
   ]
  },
  {
   "cell_type": "code",
   "execution_count": 13,
   "id": "36f5290d",
   "metadata": {
    "execution": {
     "iopub.execute_input": "2023-03-25T18:06:57.493148Z",
     "iopub.status.busy": "2023-03-25T18:06:57.492709Z",
     "iopub.status.idle": "2023-03-25T18:07:17.099731Z",
     "shell.execute_reply": "2023-03-25T18:07:17.098440Z"
    },
    "papermill": {
     "duration": 19.625518,
     "end_time": "2023-03-25T18:07:17.102710",
     "exception": false,
     "start_time": "2023-03-25T18:06:57.477192",
     "status": "completed"
    },
    "tags": []
   },
   "outputs": [
    {
     "data": {
      "image/png": "[encoded data removed]",
      "text/plain": [
       "<Figure size 1200x600 with 4 Axes>"
      ]
     },
     "metadata": {},
     "output_type": "display_data"
    }
   ],
   "source": [
    "cats = [train.columns[col] for col in [0,1,2,3,4,5,7,8,11,12,13,14,15]]\n",
    "plt.figure(figsize=(12,6))\n",
    "for i in range(0,len(cats[:4])):\n",
    "    plt.subplot(3,4,i+1)\n",
    "    sns.countplot(x=train[cats[i]])\n",
    "    plt.tight_layout()"
   ]
  },
  {
   "cell_type": "code",
   "execution_count": 14,
   "id": "4f763f0e",
   "metadata": {
    "execution": {
     "iopub.execute_input": "2023-03-25T18:07:17.133820Z",
     "iopub.status.busy": "2023-03-25T18:07:17.133354Z",
     "iopub.status.idle": "2023-03-25T18:07:32.874651Z",
     "shell.execute_reply": "2023-03-25T18:07:32.873248Z"
    },
    "papermill": {
     "duration": 15.760152,
     "end_time": "2023-03-25T18:07:32.877547",
     "exception": false,
     "start_time": "2023-03-25T18:07:17.117395",
     "status": "completed"
    },
    "tags": []
   },
   "outputs": [
    {
     "data": {
      "image/png": "[encoded data removed]",
      "text/plain": [
       "<Figure size 1200x600 with 9 Axes>"
      ]
     },
     "metadata": {},
     "output_type": "display_data"
    }
   ],
   "source": [
    "cats_bin = cats[4:]\n",
    "plt.figure(figsize=(12,6))\n",
    "for i in range(0,len(cats_bin)):\n",
    "    plt.subplot(3,4,i+1)\n",
    "    sns.countplot(x=train[cats_bin[i]])\n",
    "    plt.tight_layout()"
   ]
  },
  {
   "cell_type": "code",
   "execution_count": 15,
   "id": "1d245432",
   "metadata": {
    "execution": {
     "iopub.execute_input": "2023-03-25T18:07:32.912336Z",
     "iopub.status.busy": "2023-03-25T18:07:32.911280Z",
     "iopub.status.idle": "2023-03-25T18:07:32.929245Z",
     "shell.execute_reply": "2023-03-25T18:07:32.927912Z"
    },
    "papermill": {
     "duration": 0.038987,
     "end_time": "2023-03-25T18:07:32.932023",
     "exception": false,
     "start_time": "2023-03-25T18:07:32.893036",
     "status": "completed"
    },
    "tags": []
   },
   "outputs": [
    {
     "data": {
      "text/plain": [
       "1.0    181909\n",
       "0.0    178427\n",
       "Name: prepared_food, dtype: int64"
      ]
     },
     "execution_count": 15,
     "metadata": {},
     "output_type": "execute_result"
    }
   ],
   "source": [
    "train[\"prepared_food\"].value_counts()"
   ]
  },
  {
   "cell_type": "markdown",
   "id": "b3fea390",
   "metadata": {
    "papermill": {
     "duration": 0.015411,
     "end_time": "2023-03-25T18:07:32.963654",
     "exception": false,
     "start_time": "2023-03-25T18:07:32.948243",
     "status": "completed"
    },
    "tags": []
   },
   "source": [
    "# Test Train Split"
   ]
  },
  {
   "cell_type": "code",
   "execution_count": 16,
   "id": "3955310e",
   "metadata": {
    "execution": {
     "iopub.execute_input": "2023-03-25T18:07:32.996685Z",
     "iopub.status.busy": "2023-03-25T18:07:32.996215Z",
     "iopub.status.idle": "2023-03-25T18:07:33.026479Z",
     "shell.execute_reply": "2023-03-25T18:07:33.025105Z"
    },
    "papermill": {
     "duration": 0.050471,
     "end_time": "2023-03-25T18:07:33.029504",
     "exception": false,
     "start_time": "2023-03-25T18:07:32.979033",
     "status": "completed"
    },
    "tags": []
   },
   "outputs": [],
   "source": [
    "X = train.drop(\"cost\",axis=1)\n",
    "y = train[\"cost\"]"
   ]
  },
  {
   "cell_type": "code",
   "execution_count": 17,
   "id": "931f6f25",
   "metadata": {
    "execution": {
     "iopub.execute_input": "2023-03-25T18:07:33.062529Z",
     "iopub.status.busy": "2023-03-25T18:07:33.062083Z",
     "iopub.status.idle": "2023-03-25T18:07:33.088787Z",
     "shell.execute_reply": "2023-03-25T18:07:33.087538Z"
    },
    "papermill": {
     "duration": 0.046492,
     "end_time": "2023-03-25T18:07:33.091664",
     "exception": false,
     "start_time": "2023-03-25T18:07:33.045172",
     "status": "completed"
    },
    "tags": []
   },
   "outputs": [
    {
     "data": {
      "text/html": [
       "<div>\n",
       "<style scoped>\n",
       "    .dataframe tbody tr th:only-of-type {\n",
       "        vertical-align: middle;\n",
       "    }\n",
       "\n",
       "    .dataframe tbody tr th {\n",
       "        vertical-align: top;\n",
       "    }\n",
       "\n",
       "    .dataframe thead th {\n",
       "        text-align: right;\n",
       "    }\n",
       "</style>\n",
       "<table border=\"1\" class=\"dataframe\">\n",
       "  <thead>\n",
       "    <tr style=\"text-align: right;\">\n",
       "      <th></th>\n",
       "      <th>store_sales(in millions)</th>\n",
       "      <th>unit_sales(in millions)</th>\n",
       "      <th>total_children</th>\n",
       "      <th>num_children_at_home</th>\n",
       "      <th>avg_cars_at home(approx).1</th>\n",
       "      <th>gross_weight</th>\n",
       "      <th>recyclable_package</th>\n",
       "      <th>low_fat</th>\n",
       "      <th>units_per_case</th>\n",
       "      <th>store_sqft</th>\n",
       "      <th>coffee_bar</th>\n",
       "      <th>video_store</th>\n",
       "      <th>salad_bar</th>\n",
       "      <th>prepared_food</th>\n",
       "      <th>florist</th>\n",
       "    </tr>\n",
       "    <tr>\n",
       "      <th>id</th>\n",
       "      <th></th>\n",
       "      <th></th>\n",
       "      <th></th>\n",
       "      <th></th>\n",
       "      <th></th>\n",
       "      <th></th>\n",
       "      <th></th>\n",
       "      <th></th>\n",
       "      <th></th>\n",
       "      <th></th>\n",
       "      <th></th>\n",
       "      <th></th>\n",
       "      <th></th>\n",
       "      <th></th>\n",
       "      <th></th>\n",
       "    </tr>\n",
       "  </thead>\n",
       "  <tbody>\n",
       "    <tr>\n",
       "      <th>0</th>\n",
       "      <td>8.61</td>\n",
       "      <td>3.0</td>\n",
       "      <td>2.0</td>\n",
       "      <td>2.0</td>\n",
       "      <td>2.0</td>\n",
       "      <td>10.30</td>\n",
       "      <td>1.0</td>\n",
       "      <td>0.0</td>\n",
       "      <td>32.0</td>\n",
       "      <td>36509.0</td>\n",
       "      <td>0.0</td>\n",
       "      <td>0.0</td>\n",
       "      <td>0.0</td>\n",
       "      <td>0.0</td>\n",
       "      <td>0.0</td>\n",
       "    </tr>\n",
       "    <tr>\n",
       "      <th>1</th>\n",
       "      <td>5.00</td>\n",
       "      <td>2.0</td>\n",
       "      <td>4.0</td>\n",
       "      <td>0.0</td>\n",
       "      <td>3.0</td>\n",
       "      <td>6.66</td>\n",
       "      <td>1.0</td>\n",
       "      <td>0.0</td>\n",
       "      <td>1.0</td>\n",
       "      <td>28206.0</td>\n",
       "      <td>1.0</td>\n",
       "      <td>0.0</td>\n",
       "      <td>0.0</td>\n",
       "      <td>0.0</td>\n",
       "      <td>0.0</td>\n",
       "    </tr>\n",
       "    <tr>\n",
       "      <th>2</th>\n",
       "      <td>14.08</td>\n",
       "      <td>4.0</td>\n",
       "      <td>0.0</td>\n",
       "      <td>0.0</td>\n",
       "      <td>3.0</td>\n",
       "      <td>21.30</td>\n",
       "      <td>1.0</td>\n",
       "      <td>0.0</td>\n",
       "      <td>26.0</td>\n",
       "      <td>21215.0</td>\n",
       "      <td>1.0</td>\n",
       "      <td>0.0</td>\n",
       "      <td>0.0</td>\n",
       "      <td>0.0</td>\n",
       "      <td>0.0</td>\n",
       "    </tr>\n",
       "    <tr>\n",
       "      <th>3</th>\n",
       "      <td>4.02</td>\n",
       "      <td>3.0</td>\n",
       "      <td>5.0</td>\n",
       "      <td>0.0</td>\n",
       "      <td>0.0</td>\n",
       "      <td>14.80</td>\n",
       "      <td>0.0</td>\n",
       "      <td>1.0</td>\n",
       "      <td>36.0</td>\n",
       "      <td>21215.0</td>\n",
       "      <td>1.0</td>\n",
       "      <td>0.0</td>\n",
       "      <td>0.0</td>\n",
       "      <td>0.0</td>\n",
       "      <td>0.0</td>\n",
       "    </tr>\n",
       "    <tr>\n",
       "      <th>4</th>\n",
       "      <td>2.13</td>\n",
       "      <td>3.0</td>\n",
       "      <td>5.0</td>\n",
       "      <td>0.0</td>\n",
       "      <td>3.0</td>\n",
       "      <td>17.00</td>\n",
       "      <td>1.0</td>\n",
       "      <td>1.0</td>\n",
       "      <td>20.0</td>\n",
       "      <td>27694.0</td>\n",
       "      <td>1.0</td>\n",
       "      <td>1.0</td>\n",
       "      <td>1.0</td>\n",
       "      <td>1.0</td>\n",
       "      <td>1.0</td>\n",
       "    </tr>\n",
       "  </tbody>\n",
       "</table>\n",
       "</div>"
      ],
      "text/plain": [
       "    store_sales(in millions)  unit_sales(in millions)  total_children  \\\n",
       "id                                                                      \n",
       "0                       8.61                      3.0             2.0   \n",
       "1                       5.00                      2.0             4.0   \n",
       "2                      14.08                      4.0             0.0   \n",
       "3                       4.02                      3.0             5.0   \n",
       "4                       2.13                      3.0             5.0   \n",
       "\n",
       "    num_children_at_home  avg_cars_at home(approx).1  gross_weight  \\\n",
       "id                                                                   \n",
       "0                    2.0                         2.0         10.30   \n",
       "1                    0.0                         3.0          6.66   \n",
       "2                    0.0                         3.0         21.30   \n",
       "3                    0.0                         0.0         14.80   \n",
       "4                    0.0                         3.0         17.00   \n",
       "\n",
       "    recyclable_package  low_fat  units_per_case  store_sqft  coffee_bar  \\\n",
       "id                                                                        \n",
       "0                  1.0      0.0            32.0     36509.0         0.0   \n",
       "1                  1.0      0.0             1.0     28206.0         1.0   \n",
       "2                  1.0      0.0            26.0     21215.0         1.0   \n",
       "3                  0.0      1.0            36.0     21215.0         1.0   \n",
       "4                  1.0      1.0            20.0     27694.0         1.0   \n",
       "\n",
       "    video_store  salad_bar  prepared_food  florist  \n",
       "id                                                  \n",
       "0           0.0        0.0            0.0      0.0  \n",
       "1           0.0        0.0            0.0      0.0  \n",
       "2           0.0        0.0            0.0      0.0  \n",
       "3           0.0        0.0            0.0      0.0  \n",
       "4           1.0        1.0            1.0      1.0  "
      ]
     },
     "execution_count": 17,
     "metadata": {},
     "output_type": "execute_result"
    }
   ],
   "source": [
    "X.head()"
   ]
  },
  {
   "cell_type": "code",
   "execution_count": 18,
   "id": "4b215c4d",
   "metadata": {
    "execution": {
     "iopub.execute_input": "2023-03-25T18:07:33.125469Z",
     "iopub.status.busy": "2023-03-25T18:07:33.125062Z",
     "iopub.status.idle": "2023-03-25T18:07:33.133984Z",
     "shell.execute_reply": "2023-03-25T18:07:33.132576Z"
    },
    "papermill": {
     "duration": 0.02919,
     "end_time": "2023-03-25T18:07:33.136609",
     "exception": false,
     "start_time": "2023-03-25T18:07:33.107419",
     "status": "completed"
    },
    "tags": []
   },
   "outputs": [
    {
     "data": {
      "text/plain": [
       "id\n",
       "0     62.09\n",
       "1    121.80\n",
       "2     83.51\n",
       "3     66.78\n",
       "4    111.51\n",
       "Name: cost, dtype: float64"
      ]
     },
     "execution_count": 18,
     "metadata": {},
     "output_type": "execute_result"
    }
   ],
   "source": [
    "y.head()"
   ]
  },
  {
   "cell_type": "code",
   "execution_count": 19,
   "id": "51c51a0d",
   "metadata": {
    "execution": {
     "iopub.execute_input": "2023-03-25T18:07:33.172365Z",
     "iopub.status.busy": "2023-03-25T18:07:33.171287Z",
     "iopub.status.idle": "2023-03-25T18:07:33.536800Z",
     "shell.execute_reply": "2023-03-25T18:07:33.535087Z"
    },
    "papermill": {
     "duration": 0.386592,
     "end_time": "2023-03-25T18:07:33.539872",
     "exception": false,
     "start_time": "2023-03-25T18:07:33.153280",
     "status": "completed"
    },
    "tags": []
   },
   "outputs": [],
   "source": [
    "from sklearn.model_selection import train_test_split\n",
    "X_train,X_test,y_train,y_test = train_test_split(X,y,test_size = 0.2)"
   ]
  },
  {
   "cell_type": "code",
   "execution_count": 20,
   "id": "83b44b8a",
   "metadata": {
    "execution": {
     "iopub.execute_input": "2023-03-25T18:07:33.576049Z",
     "iopub.status.busy": "2023-03-25T18:07:33.575610Z",
     "iopub.status.idle": "2023-03-25T18:07:33.583075Z",
     "shell.execute_reply": "2023-03-25T18:07:33.581444Z"
    },
    "papermill": {
     "duration": 0.028812,
     "end_time": "2023-03-25T18:07:33.586088",
     "exception": false,
     "start_time": "2023-03-25T18:07:33.557276",
     "status": "completed"
    },
    "tags": []
   },
   "outputs": [
    {
     "name": "stdout",
     "output_type": "stream",
     "text": [
      "(288268, 15)\n",
      "(288268,)\n",
      "(72068, 15)\n",
      "(72068,)\n"
     ]
    }
   ],
   "source": [
    "print(X_train.shape)\n",
    "print(y_train.shape)\n",
    "print(X_test.shape)\n",
    "print(y_test.shape)"
   ]
  },
  {
   "cell_type": "markdown",
   "id": "7c31db8f",
   "metadata": {
    "papermill": {
     "duration": 0.017192,
     "end_time": "2023-03-25T18:07:33.620066",
     "exception": false,
     "start_time": "2023-03-25T18:07:33.602874",
     "status": "completed"
    },
    "tags": []
   },
   "source": [
    "# Modeling"
   ]
  },
  {
   "cell_type": "code",
   "execution_count": 21,
   "id": "1a2d04af",
   "metadata": {
    "execution": {
     "iopub.execute_input": "2023-03-25T18:07:33.657943Z",
     "iopub.status.busy": "2023-03-25T18:07:33.657132Z",
     "iopub.status.idle": "2023-03-25T18:07:35.910721Z",
     "shell.execute_reply": "2023-03-25T18:07:35.909487Z"
    },
    "papermill": {
     "duration": 2.275648,
     "end_time": "2023-03-25T18:07:35.914054",
     "exception": false,
     "start_time": "2023-03-25T18:07:33.638406",
     "status": "completed"
    },
    "tags": []
   },
   "outputs": [
    {
     "data": {
      "text/html": [
       "<style type='text/css'>\n",
       ".datatable table.frame { margin-bottom: 0; }\n",
       ".datatable table.frame thead { border-bottom: none; }\n",
       ".datatable table.frame tr.coltypes td {  color: #FFFFFF;  line-height: 6px;  padding: 0 0.5em;}\n",
       ".datatable .bool    { background: #DDDD99; }\n",
       ".datatable .object  { background: #565656; }\n",
       ".datatable .int     { background: #5D9E5D; }\n",
       ".datatable .float   { background: #4040CC; }\n",
       ".datatable .str     { background: #CC4040; }\n",
       ".datatable .time    { background: #40CC40; }\n",
       ".datatable .row_index {  background: var(--jp-border-color3);  border-right: 1px solid var(--jp-border-color0);  color: var(--jp-ui-font-color3);  font-size: 9px;}\n",
       ".datatable .frame tbody td { text-align: left; }\n",
       ".datatable .frame tr.coltypes .row_index {  background: var(--jp-border-color0);}\n",
       ".datatable th:nth-child(2) { padding-left: 12px; }\n",
       ".datatable .hellipsis {  color: var(--jp-cell-editor-border-color);}\n",
       ".datatable .vellipsis {  background: var(--jp-layout-color0);  color: var(--jp-cell-editor-border-color);}\n",
       ".datatable .na {  color: var(--jp-cell-editor-border-color);  font-size: 80%;}\n",
       ".datatable .sp {  opacity: 0.25;}\n",
       ".datatable .footer { font-size: 9px; }\n",
       ".datatable .frame_dimensions {  background: var(--jp-border-color3);  border-top: 1px solid var(--jp-border-color0);  color: var(--jp-ui-font-color3);  display: inline-block;  opacity: 0.6;  padding: 1px 10px 1px 5px;}\n",
       "</style>\n"
      ],
      "text/plain": [
       "<IPython.core.display.HTML object>"
      ]
     },
     "metadata": {},
     "output_type": "display_data"
    }
   ],
   "source": [
    "from sklearn.linear_model import LinearRegression\n",
    "from sklearn.tree import DecisionTreeRegressor\n",
    "from lightgbm import LGBMRegressor\n",
    "from xgboost import XGBRegressor\n",
    "from sklearn.metrics import mean_squared_log_error"
   ]
  },
  {
   "cell_type": "code",
   "execution_count": 22,
   "id": "9f7a1660",
   "metadata": {
    "execution": {
     "iopub.execute_input": "2023-03-25T18:07:35.952037Z",
     "iopub.status.busy": "2023-03-25T18:07:35.950341Z",
     "iopub.status.idle": "2023-03-25T18:07:35.957086Z",
     "shell.execute_reply": "2023-03-25T18:07:35.956016Z"
    },
    "papermill": {
     "duration": 0.028271,
     "end_time": "2023-03-25T18:07:35.959662",
     "exception": false,
     "start_time": "2023-03-25T18:07:35.931391",
     "status": "completed"
    },
    "tags": []
   },
   "outputs": [],
   "source": [
    "lr = LinearRegression()\n",
    "dtree = DecisionTreeRegressor()\n",
    "lgbmr = LGBMRegressor()\n",
    "xgbr = XGBRegressor()"
   ]
  },
  {
   "cell_type": "code",
   "execution_count": 23,
   "id": "08f7f27b",
   "metadata": {
    "execution": {
     "iopub.execute_input": "2023-03-25T18:07:35.996412Z",
     "iopub.status.busy": "2023-03-25T18:07:35.995534Z",
     "iopub.status.idle": "2023-03-25T18:07:36.180947Z",
     "shell.execute_reply": "2023-03-25T18:07:36.179077Z"
    },
    "papermill": {
     "duration": 0.208923,
     "end_time": "2023-03-25T18:07:36.185771",
     "exception": false,
     "start_time": "2023-03-25T18:07:35.976848",
     "status": "completed"
    },
    "tags": []
   },
   "outputs": [
    {
     "data": {
      "text/plain": [
       "LinearRegression()"
      ]
     },
     "execution_count": 23,
     "metadata": {},
     "output_type": "execute_result"
    }
   ],
   "source": [
    "lr.fit(X_train,y_train)"
   ]
  },
  {
   "cell_type": "code",
   "execution_count": 24,
   "id": "9718a240",
   "metadata": {
    "execution": {
     "iopub.execute_input": "2023-03-25T18:07:36.262171Z",
     "iopub.status.busy": "2023-03-25T18:07:36.261717Z",
     "iopub.status.idle": "2023-03-25T18:07:36.307533Z",
     "shell.execute_reply": "2023-03-25T18:07:36.305146Z"
    },
    "papermill": {
     "duration": 0.085962,
     "end_time": "2023-03-25T18:07:36.312783",
     "exception": false,
     "start_time": "2023-03-25T18:07:36.226821",
     "status": "completed"
    },
    "tags": []
   },
   "outputs": [],
   "source": [
    "lr_tr = lr.predict(X_train)\n",
    "a = mean_squared_log_error(y_train, lr_tr , squared=False)"
   ]
  },
  {
   "cell_type": "code",
   "execution_count": 25,
   "id": "008af84b",
   "metadata": {
    "execution": {
     "iopub.execute_input": "2023-03-25T18:07:36.397644Z",
     "iopub.status.busy": "2023-03-25T18:07:36.396209Z",
     "iopub.status.idle": "2023-03-25T18:07:36.408016Z",
     "shell.execute_reply": "2023-03-25T18:07:36.406286Z"
    },
    "papermill": {
     "duration": 0.058007,
     "end_time": "2023-03-25T18:07:36.411954",
     "exception": false,
     "start_time": "2023-03-25T18:07:36.353947",
     "status": "completed"
    },
    "tags": []
   },
   "outputs": [],
   "source": [
    "lrpred = lr.predict(X_test)"
   ]
  },
  {
   "cell_type": "code",
   "execution_count": 26,
   "id": "73d3ea5f",
   "metadata": {
    "execution": {
     "iopub.execute_input": "2023-03-25T18:07:36.497624Z",
     "iopub.status.busy": "2023-03-25T18:07:36.496716Z",
     "iopub.status.idle": "2023-03-25T18:07:39.278241Z",
     "shell.execute_reply": "2023-03-25T18:07:39.276776Z"
    },
    "papermill": {
     "duration": 2.828432,
     "end_time": "2023-03-25T18:07:39.281183",
     "exception": false,
     "start_time": "2023-03-25T18:07:36.452751",
     "status": "completed"
    },
    "tags": []
   },
   "outputs": [
    {
     "data": {
      "text/plain": [
       "DecisionTreeRegressor()"
      ]
     },
     "execution_count": 26,
     "metadata": {},
     "output_type": "execute_result"
    }
   ],
   "source": [
    "dtree.fit(X_train,y_train)"
   ]
  },
  {
   "cell_type": "code",
   "execution_count": 27,
   "id": "a93426b1",
   "metadata": {
    "execution": {
     "iopub.execute_input": "2023-03-25T18:07:39.318072Z",
     "iopub.status.busy": "2023-03-25T18:07:39.317645Z",
     "iopub.status.idle": "2023-03-25T18:07:39.591660Z",
     "shell.execute_reply": "2023-03-25T18:07:39.590297Z"
    },
    "papermill": {
     "duration": 0.29622,
     "end_time": "2023-03-25T18:07:39.594395",
     "exception": false,
     "start_time": "2023-03-25T18:07:39.298175",
     "status": "completed"
    },
    "tags": []
   },
   "outputs": [
    {
     "name": "stdout",
     "output_type": "stream",
     "text": [
      "7.160738632548584e-17\n"
     ]
    }
   ],
   "source": [
    "dt_tr = dtree.predict(X_train)\n",
    "b = mean_squared_log_error(y_train, dt_tr , squared=False)\n",
    "print(b)"
   ]
  },
  {
   "cell_type": "code",
   "execution_count": 28,
   "id": "1111e8ad",
   "metadata": {
    "execution": {
     "iopub.execute_input": "2023-03-25T18:07:39.630414Z",
     "iopub.status.busy": "2023-03-25T18:07:39.629921Z",
     "iopub.status.idle": "2023-03-25T18:07:39.703807Z",
     "shell.execute_reply": "2023-03-25T18:07:39.702321Z"
    },
    "papermill": {
     "duration": 0.095559,
     "end_time": "2023-03-25T18:07:39.707224",
     "exception": false,
     "start_time": "2023-03-25T18:07:39.611665",
     "status": "completed"
    },
    "tags": []
   },
   "outputs": [],
   "source": [
    "dtreepred = dtree.predict(X_test)"
   ]
  },
  {
   "cell_type": "code",
   "execution_count": 29,
   "id": "2cedd668",
   "metadata": {
    "execution": {
     "iopub.execute_input": "2023-03-25T18:07:39.743214Z",
     "iopub.status.busy": "2023-03-25T18:07:39.742733Z",
     "iopub.status.idle": "2023-03-25T18:07:42.035205Z",
     "shell.execute_reply": "2023-03-25T18:07:42.033302Z"
    },
    "papermill": {
     "duration": 2.314055,
     "end_time": "2023-03-25T18:07:42.038481",
     "exception": false,
     "start_time": "2023-03-25T18:07:39.724426",
     "status": "completed"
    },
    "tags": []
   },
   "outputs": [
    {
     "data": {
      "text/plain": [
       "LGBMRegressor()"
      ]
     },
     "execution_count": 29,
     "metadata": {},
     "output_type": "execute_result"
    }
   ],
   "source": [
    "lgbmr.fit(X_train,y_train)"
   ]
  },
  {
   "cell_type": "code",
   "execution_count": 30,
   "id": "ca233812",
   "metadata": {
    "execution": {
     "iopub.execute_input": "2023-03-25T18:07:42.075961Z",
     "iopub.status.busy": "2023-03-25T18:07:42.075500Z",
     "iopub.status.idle": "2023-03-25T18:07:42.582319Z",
     "shell.execute_reply": "2023-03-25T18:07:42.580946Z"
    },
    "papermill": {
     "duration": 0.530233,
     "end_time": "2023-03-25T18:07:42.585740",
     "exception": false,
     "start_time": "2023-03-25T18:07:42.055507",
     "status": "completed"
    },
    "tags": []
   },
   "outputs": [
    {
     "name": "stdout",
     "output_type": "stream",
     "text": [
      "0.30264432256370843\n"
     ]
    }
   ],
   "source": [
    "l_tr = lgbmr.predict(X_train)\n",
    "c = mean_squared_log_error(y_train, l_tr , squared=False)\n",
    "print(c)"
   ]
  },
  {
   "cell_type": "code",
   "execution_count": 31,
   "id": "3dabc6c5",
   "metadata": {
    "execution": {
     "iopub.execute_input": "2023-03-25T18:07:42.623311Z",
     "iopub.status.busy": "2023-03-25T18:07:42.622638Z",
     "iopub.status.idle": "2023-03-25T18:07:42.746370Z",
     "shell.execute_reply": "2023-03-25T18:07:42.745297Z"
    },
    "papermill": {
     "duration": 0.145467,
     "end_time": "2023-03-25T18:07:42.749168",
     "exception": false,
     "start_time": "2023-03-25T18:07:42.603701",
     "status": "completed"
    },
    "tags": []
   },
   "outputs": [],
   "source": [
    "lgbmrpred = lgbmr.predict(X_test)"
   ]
  },
  {
   "cell_type": "code",
   "execution_count": 32,
   "id": "0dfb3b7b",
   "metadata": {
    "execution": {
     "iopub.execute_input": "2023-03-25T18:07:42.786883Z",
     "iopub.status.busy": "2023-03-25T18:07:42.786152Z",
     "iopub.status.idle": "2023-03-25T18:08:25.101816Z",
     "shell.execute_reply": "2023-03-25T18:08:25.100859Z"
    },
    "papermill": {
     "duration": 42.354822,
     "end_time": "2023-03-25T18:08:25.121094",
     "exception": false,
     "start_time": "2023-03-25T18:07:42.766272",
     "status": "completed"
    },
    "tags": []
   },
   "outputs": [
    {
     "data": {
      "text/plain": [
       "XGBRegressor(base_score=0.5, booster='gbtree', callbacks=None,\n",
       "             colsample_bylevel=1, colsample_bynode=1, colsample_bytree=1,\n",
       "             early_stopping_rounds=None, enable_categorical=False,\n",
       "             eval_metric=None, gamma=0, gpu_id=-1, grow_policy='depthwise',\n",
       "             importance_type=None, interaction_constraints='',\n",
       "             learning_rate=0.300000012, max_bin=256, max_cat_to_onehot=4,\n",
       "             max_delta_step=0, max_depth=6, max_leaves=0, min_child_weight=1,\n",
       "             missing=nan, monotone_constraints='()', n_estimators=100, n_jobs=0,\n",
       "             num_parallel_tree=1, predictor='auto', random_state=0, reg_alpha=0,\n",
       "             reg_lambda=1, ...)"
      ]
     },
     "execution_count": 32,
     "metadata": {},
     "output_type": "execute_result"
    }
   ],
   "source": [
    "xgbr.fit(X_train,y_train)"
   ]
  },
  {
   "cell_type": "code",
   "execution_count": 33,
   "id": "4d7b55b1",
   "metadata": {
    "execution": {
     "iopub.execute_input": "2023-03-25T18:08:25.157973Z",
     "iopub.status.busy": "2023-03-25T18:08:25.157320Z",
     "iopub.status.idle": "2023-03-25T18:08:25.938012Z",
     "shell.execute_reply": "2023-03-25T18:08:25.936949Z"
    },
    "papermill": {
     "duration": 0.80367,
     "end_time": "2023-03-25T18:08:25.941563",
     "exception": false,
     "start_time": "2023-03-25T18:08:25.137893",
     "status": "completed"
    },
    "tags": []
   },
   "outputs": [
    {
     "name": "stdout",
     "output_type": "stream",
     "text": [
      "0.297094321271617\n"
     ]
    }
   ],
   "source": [
    "x_tr = xgbr.predict(X_train)\n",
    "d = mean_squared_log_error(y_train, x_tr , squared=False)\n",
    "print(d)"
   ]
  },
  {
   "cell_type": "code",
   "execution_count": 34,
   "id": "5d40a59d",
   "metadata": {
    "execution": {
     "iopub.execute_input": "2023-03-25T18:08:25.978208Z",
     "iopub.status.busy": "2023-03-25T18:08:25.977745Z",
     "iopub.status.idle": "2023-03-25T18:08:26.172016Z",
     "shell.execute_reply": "2023-03-25T18:08:26.170670Z"
    },
    "papermill": {
     "duration": 0.215743,
     "end_time": "2023-03-25T18:08:26.174848",
     "exception": false,
     "start_time": "2023-03-25T18:08:25.959105",
     "status": "completed"
    },
    "tags": []
   },
   "outputs": [],
   "source": [
    "xgbrpred = xgbr.predict(X_test)"
   ]
  },
  {
   "cell_type": "code",
   "execution_count": 35,
   "id": "a1921c81",
   "metadata": {
    "execution": {
     "iopub.execute_input": "2023-03-25T18:08:26.211671Z",
     "iopub.status.busy": "2023-03-25T18:08:26.211254Z",
     "iopub.status.idle": "2023-03-25T18:08:26.233615Z",
     "shell.execute_reply": "2023-03-25T18:08:26.232475Z"
    },
    "papermill": {
     "duration": 0.044172,
     "end_time": "2023-03-25T18:08:26.236496",
     "exception": false,
     "start_time": "2023-03-25T18:08:26.192324",
     "status": "completed"
    },
    "tags": []
   },
   "outputs": [],
   "source": [
    "rmsle_lr = mean_squared_log_error(y_test, lrpred , squared=False)\n",
    "rmsle_dtree = mean_squared_log_error(y_test, dtreepred , squared=False)\n",
    "rmsle_lgbmr = mean_squared_log_error(y_test, lgbmrpred , squared=False)\n",
    "rmsle_xgbr = mean_squared_log_error(y_test, xgbrpred , squared=False)"
   ]
  },
  {
   "cell_type": "code",
   "execution_count": 36,
   "id": "105f3ec7",
   "metadata": {
    "execution": {
     "iopub.execute_input": "2023-03-25T18:08:26.273145Z",
     "iopub.status.busy": "2023-03-25T18:08:26.272718Z",
     "iopub.status.idle": "2023-03-25T18:08:26.280202Z",
     "shell.execute_reply": "2023-03-25T18:08:26.278629Z"
    },
    "papermill": {
     "duration": 0.02975,
     "end_time": "2023-03-25T18:08:26.283647",
     "exception": false,
     "start_time": "2023-03-25T18:08:26.253897",
     "status": "completed"
    },
    "tags": []
   },
   "outputs": [
    {
     "name": "stdout",
     "output_type": "stream",
     "text": [
      "rmsle value for Linear_Regression :  -0.0002638423183642935\n",
      "rmsle value for DecisionTree_Regressor :  0.4198604598141694\n",
      "rmsle value for LGBMRegressor :  0.0007586132573328408\n",
      "rmsle value for XGBRegressor :  0.004976661765118073\n"
     ]
    }
   ],
   "source": [
    "print(\"rmsle value for Linear_Regression : \",rmsle_lr-a)\n",
    "print(\"rmsle value for DecisionTree_Regressor : \",rmsle_dtree-b)\n",
    "print(\"rmsle value for LGBMRegressor : \",rmsle_lgbmr-c)\n",
    "print(\"rmsle value for XGBRegressor : \",rmsle_xgbr-d)"
   ]
  },
  {
   "cell_type": "markdown",
   "id": "25911e3e",
   "metadata": {
    "papermill": {
     "duration": 0.01664,
     "end_time": "2023-03-25T18:08:26.317604",
     "exception": false,
     "start_time": "2023-03-25T18:08:26.300964",
     "status": "completed"
    },
    "tags": []
   },
   "source": [
    "# LGBMRegressor is the best model "
   ]
  },
  {
   "cell_type": "code",
   "execution_count": 37,
   "id": "a6b48a22",
   "metadata": {
    "execution": {
     "iopub.execute_input": "2023-03-25T18:08:26.354249Z",
     "iopub.status.busy": "2023-03-25T18:08:26.353728Z",
     "iopub.status.idle": "2023-03-25T18:08:26.771037Z",
     "shell.execute_reply": "2023-03-25T18:08:26.770168Z"
    },
    "papermill": {
     "duration": 0.438688,
     "end_time": "2023-03-25T18:08:26.773366",
     "exception": false,
     "start_time": "2023-03-25T18:08:26.334678",
     "status": "completed"
    },
    "tags": []
   },
   "outputs": [
    {
     "data": {
      "text/plain": [
       "array([101.22241395,  97.23357933,  97.1926021 , ...,  98.77252514,\n",
       "       106.72127826, 101.55522592])"
      ]
     },
     "execution_count": 37,
     "metadata": {},
     "output_type": "execute_result"
    }
   ],
   "source": [
    "pred = lgbmr.predict(test)\n",
    "pred\n"
   ]
  },
  {
   "cell_type": "code",
   "execution_count": 38,
   "id": "6a5b432f",
   "metadata": {
    "execution": {
     "iopub.execute_input": "2023-03-25T18:08:26.810229Z",
     "iopub.status.busy": "2023-03-25T18:08:26.808966Z",
     "iopub.status.idle": "2023-03-25T18:08:26.836379Z",
     "shell.execute_reply": "2023-03-25T18:08:26.835066Z"
    },
    "papermill": {
     "duration": 0.048936,
     "end_time": "2023-03-25T18:08:26.839372",
     "exception": false,
     "start_time": "2023-03-25T18:08:26.790436",
     "status": "completed"
    },
    "tags": []
   },
   "outputs": [],
   "source": [
    "result = pd.DataFrame()\n",
    "result[\"id\"] = test.index\n",
    "result[\"cost\"] = pred\n",
    "result = result.set_index(\"id\")"
   ]
  },
  {
   "cell_type": "code",
   "execution_count": 39,
   "id": "5fcbaebf",
   "metadata": {
    "execution": {
     "iopub.execute_input": "2023-03-25T18:08:26.876087Z",
     "iopub.status.busy": "2023-03-25T18:08:26.875651Z",
     "iopub.status.idle": "2023-03-25T18:08:26.888876Z",
     "shell.execute_reply": "2023-03-25T18:08:26.887532Z"
    },
    "papermill": {
     "duration": 0.034618,
     "end_time": "2023-03-25T18:08:26.891469",
     "exception": false,
     "start_time": "2023-03-25T18:08:26.856851",
     "status": "completed"
    },
    "tags": []
   },
   "outputs": [
    {
     "data": {
      "text/html": [
       "<div>\n",
       "<style scoped>\n",
       "    .dataframe tbody tr th:only-of-type {\n",
       "        vertical-align: middle;\n",
       "    }\n",
       "\n",
       "    .dataframe tbody tr th {\n",
       "        vertical-align: top;\n",
       "    }\n",
       "\n",
       "    .dataframe thead th {\n",
       "        text-align: right;\n",
       "    }\n",
       "</style>\n",
       "<table border=\"1\" class=\"dataframe\">\n",
       "  <thead>\n",
       "    <tr style=\"text-align: right;\">\n",
       "      <th></th>\n",
       "      <th>cost</th>\n",
       "    </tr>\n",
       "    <tr>\n",
       "      <th>id</th>\n",
       "      <th></th>\n",
       "    </tr>\n",
       "  </thead>\n",
       "  <tbody>\n",
       "    <tr>\n",
       "      <th>360336</th>\n",
       "      <td>101.222414</td>\n",
       "    </tr>\n",
       "    <tr>\n",
       "      <th>360337</th>\n",
       "      <td>97.233579</td>\n",
       "    </tr>\n",
       "    <tr>\n",
       "      <th>360338</th>\n",
       "      <td>97.192602</td>\n",
       "    </tr>\n",
       "    <tr>\n",
       "      <th>360339</th>\n",
       "      <td>103.031037</td>\n",
       "    </tr>\n",
       "    <tr>\n",
       "      <th>360340</th>\n",
       "      <td>83.458237</td>\n",
       "    </tr>\n",
       "    <tr>\n",
       "      <th>...</th>\n",
       "      <td>...</td>\n",
       "    </tr>\n",
       "    <tr>\n",
       "      <th>600555</th>\n",
       "      <td>101.534648</td>\n",
       "    </tr>\n",
       "    <tr>\n",
       "      <th>600556</th>\n",
       "      <td>96.664729</td>\n",
       "    </tr>\n",
       "    <tr>\n",
       "      <th>600557</th>\n",
       "      <td>98.772525</td>\n",
       "    </tr>\n",
       "    <tr>\n",
       "      <th>600558</th>\n",
       "      <td>106.721278</td>\n",
       "    </tr>\n",
       "    <tr>\n",
       "      <th>600559</th>\n",
       "      <td>101.555226</td>\n",
       "    </tr>\n",
       "  </tbody>\n",
       "</table>\n",
       "<p>240224 rows × 1 columns</p>\n",
       "</div>"
      ],
      "text/plain": [
       "              cost\n",
       "id                \n",
       "360336  101.222414\n",
       "360337   97.233579\n",
       "360338   97.192602\n",
       "360339  103.031037\n",
       "360340   83.458237\n",
       "...            ...\n",
       "600555  101.534648\n",
       "600556   96.664729\n",
       "600557   98.772525\n",
       "600558  106.721278\n",
       "600559  101.555226\n",
       "\n",
       "[240224 rows x 1 columns]"
      ]
     },
     "execution_count": 39,
     "metadata": {},
     "output_type": "execute_result"
    }
   ],
   "source": [
    "result"
   ]
  },
  {
   "cell_type": "code",
   "execution_count": 40,
   "id": "262a6352",
   "metadata": {
    "execution": {
     "iopub.execute_input": "2023-03-25T18:08:26.929179Z",
     "iopub.status.busy": "2023-03-25T18:08:26.928737Z",
     "iopub.status.idle": "2023-03-25T18:08:27.548505Z",
     "shell.execute_reply": "2023-03-25T18:08:27.546206Z"
    },
    "papermill": {
     "duration": 0.642749,
     "end_time": "2023-03-25T18:08:27.551970",
     "exception": false,
     "start_time": "2023-03-25T18:08:26.909221",
     "status": "completed"
    },
    "tags": []
   },
   "outputs": [],
   "source": [
    "result.to_csv(\"/kaggle/working/submission.csv\")"
   ]
  },
  {
   "cell_type": "markdown",
   "id": "0d6682e8",
   "metadata": {
    "papermill": {
     "duration": 0.018375,
     "end_time": "2023-03-25T18:08:27.593155",
     "exception": false,
     "start_time": "2023-03-25T18:08:27.574780",
     "status": "completed"
    },
    "tags": []
   },
   "source": [
    "**If you believe this work is valuable, please vote it up. That inspires me much. Feel Free to give your valuable feedback**"
   ]
  }
 ],
 "metadata": {
  "kernelspec": {
   "display_name": "Python 3",
   "language": "python",
   "name": "python3"
  },
  "language_info": {
   "codemirror_mode": {
    "name": "ipython",
    "version": 3
   },
   "file_extension": ".py",
   "mimetype": "text/x-python",
   "name": "python",
   "nbconvert_exporter": "python",
   "pygments_lexer": "ipython3",
   "version": "3.7.12"
  },
  "papermill": {
   "default_parameters": {},
   "duration": 130.850003,
   "end_time": "2023-03-25T18:08:28.642896",
   "environment_variables": {},
   "exception": null,
   "input_path": "__notebook__.ipynb",
   "output_path": "__notebook__.ipynb",
   "parameters": {},
   "start_time": "2023-03-25T18:06:17.792893",
   "version": "2.4.0"
  }
 },
 "nbformat": 4,
 "nbformat_minor": 5
}
